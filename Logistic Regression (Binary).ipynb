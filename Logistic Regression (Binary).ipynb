{
 "cells": [
  {
   "cell_type": "code",
   "execution_count": 1,
   "metadata": {
    "ExecuteTime": {
     "end_time": "2019-12-12T12:28:27.264266Z",
     "start_time": "2019-12-12T12:28:24.235300Z"
    }
   },
   "outputs": [],
   "source": [
    "import numpy as np\n",
    "from sklearn.datasets import load_digits"
   ]
  },
  {
   "cell_type": "markdown",
   "metadata": {},
   "source": [
    "##### Загрузка и подготовка даных"
   ]
  },
  {
   "cell_type": "code",
   "execution_count": 2,
   "metadata": {
    "ExecuteTime": {
     "end_time": "2019-12-12T12:28:27.361861Z",
     "start_time": "2019-12-12T12:28:27.265329Z"
    }
   },
   "outputs": [
    {
     "name": "stdout",
     "output_type": "stream",
     "text": [
      "dict_keys(['data', 'target', 'target_names', 'images', 'DESCR'])\n"
     ]
    }
   ],
   "source": [
    "data_dict = load_digits()\n",
    "print(data_dict.keys())"
   ]
  },
  {
   "cell_type": "markdown",
   "metadata": {},
   "source": [
    "Поскольку мы будем использовать алгоритм логистической регрессии, то воспользуемся 'data', а не 'images'.В этом случае,объекты уже находятся в одномерных матрицах размером 1х64, а не 8х8. Второй случай представления матриц будет полезен позже, при использовании сверточных нейросетей."
   ]
  },
  {
   "cell_type": "code",
   "execution_count": 5,
   "metadata": {
    "ExecuteTime": {
     "end_time": "2019-12-12T12:28:55.697116Z",
     "start_time": "2019-12-12T12:28:55.683167Z"
    }
   },
   "outputs": [
    {
     "name": "stdout",
     "output_type": "stream",
     "text": [
      "Размреность датасета: (1797, 64)\n"
     ]
    }
   ],
   "source": [
    "data = data_dict['data']\n",
    "print('Размреность датасета:', data.shape)"
   ]
  },
  {
   "cell_type": "code",
   "execution_count": 6,
   "metadata": {
    "ExecuteTime": {
     "end_time": "2019-12-12T12:46:20.631871Z",
     "start_time": "2019-12-12T12:46:20.616504Z"
    }
   },
   "outputs": [
    {
     "name": "stdout",
     "output_type": "stream",
     "text": [
      "Размреность таргета: (1797, 1)\n",
      "[[0]\n",
      " [0]\n",
      " [0]]\n"
     ]
    }
   ],
   "source": [
    "binary_targets = (data_dict['target']==5).astype('int')\n",
    "binary_targets = np.expand_dims(binary_targets, axis = -1)\n",
    "print('Размреность таргета:', binary_targets.shape)\n",
    "print(binary_targets[:3])"
   ]
  },
  {
   "cell_type": "code",
   "execution_count": 7,
   "metadata": {
    "ExecuteTime": {
     "end_time": "2019-12-12T12:46:20.787618Z",
     "start_time": "2019-12-12T12:46:20.775128Z"
    }
   },
   "outputs": [],
   "source": [
    "SPLIT_THRESHOLD = 0.8"
   ]
  },
  {
   "cell_type": "code",
   "execution_count": 8,
   "metadata": {
    "ExecuteTime": {
     "end_time": "2019-12-12T12:46:21.298213Z",
     "start_time": "2019-12-12T12:46:21.284637Z"
    }
   },
   "outputs": [],
   "source": [
    "X_train = data[:int(SPLIT_THRESHOLD * len(data))]\n",
    "y_train = binary_targets[:int(SPLIT_THRESHOLD * len(data))]\n",
    "\n",
    "X_test = data[int(SPLIT_THRESHOLD * len(data)):]\n",
    "y_test = binary_targets[int(SPLIT_THRESHOLD * len(data)):]"
   ]
  },
  {
   "cell_type": "markdown",
   "metadata": {},
   "source": [
    "#### Определение функций алгоритма"
   ]
  },
  {
   "cell_type": "code",
   "execution_count": 9,
   "metadata": {
    "ExecuteTime": {
     "end_time": "2019-12-12T12:46:22.190082Z",
     "start_time": "2019-12-12T12:46:22.181714Z"
    }
   },
   "outputs": [],
   "source": [
    "def sigma(z):\n",
    "    '''Return sigma function result\n",
    "    '''\n",
    "    return(1/(1 + np.power(np.exp(1), -z)))"
   ]
  },
  {
   "cell_type": "code",
   "execution_count": 10,
   "metadata": {
    "ExecuteTime": {
     "end_time": "2019-12-12T12:46:22.655928Z",
     "start_time": "2019-12-12T12:46:22.645388Z"
    }
   },
   "outputs": [],
   "source": [
    "# Sanity check\n",
    "assert sigma(0)==0.5\n",
    "assert sigma(np.inf) == 1\n",
    "assert sigma(-np.inf) == 0"
   ]
  },
  {
   "cell_type": "code",
   "execution_count": 34,
   "metadata": {
    "ExecuteTime": {
     "end_time": "2019-12-12T13:08:28.226043Z",
     "start_time": "2019-12-12T13:08:28.221886Z"
    }
   },
   "outputs": [],
   "source": [
    "def weights_initialization(X):\n",
    "    ''' Initialize parameters W and b\n",
    "    '''\n",
    "    b = 0\n",
    "    W = np.zeros([1, X.shape[1]])\n",
    "    return W, b"
   ]
  },
  {
   "cell_type": "code",
   "execution_count": 57,
   "metadata": {
    "ExecuteTime": {
     "end_time": "2019-12-12T13:37:02.585269Z",
     "start_time": "2019-12-12T13:37:02.581493Z"
    },
    "code_folding": []
   },
   "outputs": [],
   "source": [
    "def train(X, y, lr, W, b):\n",
    "    '''\n",
    "    Input:\n",
    "        X - training data\n",
    "        y - target labels\n",
    "        lr - learning rates\n",
    "        W, b - weights\n",
    "    Outputs:\n",
    "        W, b -  weights after train iteration\n",
    "    '''\n",
    "    m = X.shape[0] #training objects amount\n",
    "    \n",
    "    # forward pass\n",
    "    Z = np.dot(W, X.T) + b\n",
    "    A = sigma(Z)\n",
    "    \n",
    "    # backward pass\n",
    "    dZ = A - y.T\n",
    "    dW = (1 / m) * np.dot(X.T, dZ.T)\n",
    "    db = (1 / m) * np.sum(dZ)\n",
    "    \n",
    "    W -= lr * dW.T\n",
    "    b -= lr*db\n",
    "    \n",
    "    return W, b"
   ]
  },
  {
   "cell_type": "code",
   "execution_count": 59,
   "metadata": {
    "ExecuteTime": {
     "end_time": "2019-12-12T13:40:33.013799Z",
     "start_time": "2019-12-12T13:40:33.011086Z"
    }
   },
   "outputs": [],
   "source": [
    "def predict(X, W, b):\n",
    "    Z = np.dot(W, X.T) + b\n",
    "    A = sigma(Z)\n",
    "    return A.T"
   ]
  },
  {
   "cell_type": "code",
   "execution_count": 65,
   "metadata": {
    "ExecuteTime": {
     "end_time": "2019-12-12T13:45:33.732169Z",
     "start_time": "2019-12-12T13:45:33.729030Z"
    }
   },
   "outputs": [],
   "source": [
    "def make_logreg(X_train, y, X_test, lr, epochs):\n",
    "    W, b = weights_initialization(X_train)\n",
    "    for step in range(epochs):\n",
    "        W, b = train(X_train, y, lr, W, b)\n",
    "    return predict(X_test, W, b)"
   ]
  },
  {
   "cell_type": "markdown",
   "metadata": {},
   "source": [
    "#### Результаты"
   ]
  },
  {
   "cell_type": "code",
   "execution_count": 86,
   "metadata": {
    "ExecuteTime": {
     "end_time": "2019-12-12T13:50:33.936113Z",
     "start_time": "2019-12-12T13:50:33.885143Z"
    }
   },
   "outputs": [],
   "source": [
    "y_pred = make_logreg(X_train = X_train, y = y_train, X_test = X_test, lr = 0.01, epochs = 100)"
   ]
  },
  {
   "cell_type": "code",
   "execution_count": 87,
   "metadata": {
    "ExecuteTime": {
     "end_time": "2019-12-12T13:50:34.206138Z",
     "start_time": "2019-12-12T13:50:34.192777Z"
    }
   },
   "outputs": [],
   "source": [
    "y_pred_rank = y_pred > 0.5"
   ]
  },
  {
   "cell_type": "code",
   "execution_count": 89,
   "metadata": {
    "ExecuteTime": {
     "end_time": "2019-12-12T13:51:18.945172Z",
     "start_time": "2019-12-12T13:51:18.941674Z"
    }
   },
   "outputs": [
    {
     "name": "stdout",
     "output_type": "stream",
     "text": [
      "0.9916666666666667\n"
     ]
    }
   ],
   "source": [
    "accuracy = 1 - np.sum(np.abs(y_pred_rank - y_test))/len(y_pred_rank )\n",
    "print(accuracy)"
   ]
  },
  {
   "cell_type": "code",
   "execution_count": null,
   "metadata": {},
   "outputs": [],
   "source": []
  }
 ],
 "metadata": {
  "kernelspec": {
   "display_name": "Python 3",
   "language": "python",
   "name": "python3"
  },
  "language_info": {
   "codemirror_mode": {
    "name": "ipython",
    "version": 3
   },
   "file_extension": ".py",
   "mimetype": "text/x-python",
   "name": "python",
   "nbconvert_exporter": "python",
   "pygments_lexer": "ipython3",
   "version": "3.6.9"
  }
 },
 "nbformat": 4,
 "nbformat_minor": 2
}
