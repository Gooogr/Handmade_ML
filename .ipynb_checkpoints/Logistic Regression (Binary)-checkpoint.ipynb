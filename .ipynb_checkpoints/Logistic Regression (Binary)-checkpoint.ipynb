{
 "cells": [
  {
   "cell_type": "code",
   "execution_count": 73,
   "metadata": {
    "ExecuteTime": {
     "end_time": "2019-12-13T19:03:15.218623Z",
     "start_time": "2019-12-13T19:03:15.208525Z"
    }
   },
   "outputs": [],
   "source": [
    "import numpy as np\n",
    "from sklearn.datasets import load_digits\n",
    "import matplotlib.pyplot as plt"
   ]
  },
  {
   "cell_type": "markdown",
   "metadata": {},
   "source": [
    "##### Загрузка и подготовка даных"
   ]
  },
  {
   "cell_type": "code",
   "execution_count": 2,
   "metadata": {
    "ExecuteTime": {
     "end_time": "2019-12-12T12:28:27.361861Z",
     "start_time": "2019-12-12T12:28:27.265329Z"
    }
   },
   "outputs": [
    {
     "name": "stdout",
     "output_type": "stream",
     "text": [
      "dict_keys(['data', 'target', 'target_names', 'images', 'DESCR'])\n"
     ]
    }
   ],
   "source": [
    "data_dict = load_digits()\n",
    "print(data_dict.keys())"
   ]
  },
  {
   "cell_type": "markdown",
   "metadata": {},
   "source": [
    "Поскольку мы будем использовать алгоритм логистической регрессии, то воспользуемся 'data', а не 'images'.В этом случае,объекты уже находятся в одномерных матрицах размером 1х64, а не 8х8. Второй случай представления матриц будет полезен позже, при использовании сверточных нейросетей."
   ]
  },
  {
   "cell_type": "code",
   "execution_count": 5,
   "metadata": {
    "ExecuteTime": {
     "end_time": "2019-12-12T12:28:55.697116Z",
     "start_time": "2019-12-12T12:28:55.683167Z"
    }
   },
   "outputs": [
    {
     "name": "stdout",
     "output_type": "stream",
     "text": [
      "Размреность датасета: (1797, 64)\n"
     ]
    }
   ],
   "source": [
    "data = data_dict['data']\n",
    "print('Размреность датасета:', data.shape)"
   ]
  },
  {
   "cell_type": "code",
   "execution_count": 6,
   "metadata": {
    "ExecuteTime": {
     "end_time": "2019-12-12T12:46:20.631871Z",
     "start_time": "2019-12-12T12:46:20.616504Z"
    }
   },
   "outputs": [
    {
     "name": "stdout",
     "output_type": "stream",
     "text": [
      "Размреность таргета: (1797, 1)\n",
      "[[0]\n",
      " [0]\n",
      " [0]]\n"
     ]
    }
   ],
   "source": [
    "binary_targets = (data_dict['target']==5).astype('int')\n",
    "binary_targets = np.expand_dims(binary_targets, axis = -1)\n",
    "print('Размреность таргета:', binary_targets.shape)\n",
    "print(binary_targets[:3])"
   ]
  },
  {
   "cell_type": "code",
   "execution_count": 7,
   "metadata": {
    "ExecuteTime": {
     "end_time": "2019-12-12T12:46:20.787618Z",
     "start_time": "2019-12-12T12:46:20.775128Z"
    }
   },
   "outputs": [],
   "source": [
    "SPLIT_THRESHOLD = 0.8"
   ]
  },
  {
   "cell_type": "code",
   "execution_count": 8,
   "metadata": {
    "ExecuteTime": {
     "end_time": "2019-12-12T12:46:21.298213Z",
     "start_time": "2019-12-12T12:46:21.284637Z"
    }
   },
   "outputs": [],
   "source": [
    "X_train = data[:int(SPLIT_THRESHOLD * len(data))]\n",
    "y_train = binary_targets[:int(SPLIT_THRESHOLD * len(data))]\n",
    "\n",
    "X_test = data[int(SPLIT_THRESHOLD * len(data)):]\n",
    "y_test = binary_targets[int(SPLIT_THRESHOLD * len(data)):]"
   ]
  },
  {
   "cell_type": "markdown",
   "metadata": {
    "ExecuteTime": {
     "end_time": "2019-12-13T17:38:32.811341Z",
     "start_time": "2019-12-13T17:38:32.807689Z"
    }
   },
   "source": [
    "В данном примере объекты в матрице Х расположены построчно, в отличии от постолбцового представления в курсе лекций от Andrew Ng."
   ]
  },
  {
   "cell_type": "markdown",
   "metadata": {
    "ExecuteTime": {
     "end_time": "2019-12-13T19:02:24.465453Z",
     "start_time": "2019-12-13T19:02:24.352443Z"
    }
   },
   "source": [
    "![title](https://raw.githubusercontent.com/Gooogr/Handmade_ML/master/img/binary_logistic_regression.png)"
   ]
  },
  {
   "cell_type": "markdown",
   "metadata": {},
   "source": [
    "### Определение функций алгоритма"
   ]
  },
  {
   "cell_type": "markdown",
   "metadata": {},
   "source": [
    "**Вспомогательные функции**"
   ]
  },
  {
   "cell_type": "code",
   "execution_count": 9,
   "metadata": {
    "ExecuteTime": {
     "end_time": "2019-12-12T12:46:22.190082Z",
     "start_time": "2019-12-12T12:46:22.181714Z"
    }
   },
   "outputs": [],
   "source": [
    "def sigma(z):\n",
    "    '''Return sigma function result\n",
    "    '''\n",
    "    return(1/(1 + np.power(np.exp(1), -z)))"
   ]
  },
  {
   "cell_type": "code",
   "execution_count": 10,
   "metadata": {
    "ExecuteTime": {
     "end_time": "2019-12-12T12:46:22.655928Z",
     "start_time": "2019-12-12T12:46:22.645388Z"
    }
   },
   "outputs": [],
   "source": [
    "# Sanity check\n",
    "assert sigma(0)==0.5\n",
    "assert sigma(np.inf) == 1\n",
    "assert sigma(-np.inf) == 0"
   ]
  },
  {
   "cell_type": "markdown",
   "metadata": {},
   "source": [
    "**Основные функции**"
   ]
  },
  {
   "cell_type": "code",
   "execution_count": 40,
   "metadata": {
    "ExecuteTime": {
     "end_time": "2019-12-13T18:44:53.319488Z",
     "start_time": "2019-12-13T18:44:53.314251Z"
    }
   },
   "outputs": [],
   "source": [
    "def weights_initialization(X):\n",
    "    ''' Initialize parameters W and b\n",
    "    '''\n",
    "    b = 0\n",
    "    W = np.zeros([1, X.shape[1]])\n",
    "    return W, b"
   ]
  },
  {
   "cell_type": "code",
   "execution_count": 41,
   "metadata": {
    "ExecuteTime": {
     "end_time": "2019-12-13T18:44:53.492426Z",
     "start_time": "2019-12-13T18:44:53.479392Z"
    },
    "code_folding": []
   },
   "outputs": [],
   "source": [
    "def train(X, y, lr, W, b):\n",
    "    '''\n",
    "    Input:\n",
    "        X - training data\n",
    "        y - target labels\n",
    "        lr - learning rates\n",
    "        W, b - weights\n",
    "    Outputs:\n",
    "        W, b -  weights after train iteration\n",
    "    '''\n",
    "    m = X.shape[0] #training objects amount\n",
    "    \n",
    "    # forward pass\n",
    "    Z = np.dot(W, X.T) + b\n",
    "    A = sigma(Z)\n",
    "    \n",
    "    # backward pass\n",
    "    dZ = A - y.T\n",
    "    dW = (1 / m) * np.dot(X.T, dZ.T)\n",
    "    db = (1 / m) * np.sum(dZ)\n",
    "    \n",
    "    # update weights\n",
    "    W -= lr * dW.T\n",
    "    b -= lr*db\n",
    "    \n",
    "    return W, b"
   ]
  },
  {
   "cell_type": "code",
   "execution_count": 42,
   "metadata": {
    "ExecuteTime": {
     "end_time": "2019-12-13T18:44:53.662313Z",
     "start_time": "2019-12-13T18:44:53.654103Z"
    }
   },
   "outputs": [],
   "source": [
    "def predict(X, W, b):\n",
    "    Z = np.dot(W, X.T) + b\n",
    "    A = sigma(Z)\n",
    "    return A.T"
   ]
  },
  {
   "cell_type": "code",
   "execution_count": 43,
   "metadata": {
    "ExecuteTime": {
     "end_time": "2019-12-13T18:44:53.823427Z",
     "start_time": "2019-12-13T18:44:53.813924Z"
    }
   },
   "outputs": [],
   "source": [
    "def make_logreg(X_train, y, X_test, lr, epochs):\n",
    "    W, b = weights_initialization(X_train)\n",
    "    for step in range(epochs):\n",
    "        W, b = train(X_train, y, lr, W, b)\n",
    "    return predict(X_test, W, b)"
   ]
  },
  {
   "cell_type": "markdown",
   "metadata": {},
   "source": [
    "### Результаты"
   ]
  },
  {
   "cell_type": "code",
   "execution_count": 44,
   "metadata": {
    "ExecuteTime": {
     "end_time": "2019-12-13T18:44:54.484175Z",
     "start_time": "2019-12-13T18:44:54.416456Z"
    }
   },
   "outputs": [],
   "source": [
    "y_pred = make_logreg(X_train = X_train, y = y_train, X_test = X_test, lr = 0.01, epochs = 100)"
   ]
  },
  {
   "cell_type": "code",
   "execution_count": 45,
   "metadata": {
    "ExecuteTime": {
     "end_time": "2019-12-13T18:44:54.668080Z",
     "start_time": "2019-12-13T18:44:54.661875Z"
    }
   },
   "outputs": [],
   "source": [
    "y_pred_rank = y_pred > 0.5"
   ]
  },
  {
   "cell_type": "code",
   "execution_count": 46,
   "metadata": {
    "ExecuteTime": {
     "end_time": "2019-12-13T18:44:55.588960Z",
     "start_time": "2019-12-13T18:44:55.586417Z"
    }
   },
   "outputs": [
    {
     "name": "stdout",
     "output_type": "stream",
     "text": [
      "0.9916666666666667\n"
     ]
    }
   ],
   "source": [
    "accuracy = 1 - np.sum(np.abs(y_pred_rank - y_test))/len(y_pred_rank )\n",
    "print(accuracy)"
   ]
  },
  {
   "cell_type": "code",
   "execution_count": 47,
   "metadata": {
    "ExecuteTime": {
     "end_time": "2019-12-13T18:44:56.533231Z",
     "start_time": "2019-12-13T18:44:56.530267Z"
    }
   },
   "outputs": [
    {
     "data": {
      "text/plain": [
       "array([180, 225, 328])"
      ]
     },
     "execution_count": 47,
     "metadata": {},
     "output_type": "execute_result"
    }
   ],
   "source": [
    "error_idxs = np.where((y_pred_rank - y_test) != 0)[0]\n",
    "error_idxs"
   ]
  },
  {
   "cell_type": "code",
   "execution_count": 48,
   "metadata": {
    "ExecuteTime": {
     "end_time": "2019-12-13T18:44:57.243346Z",
     "start_time": "2019-12-13T18:44:57.125957Z"
    }
   },
   "outputs": [
    {
     "data": {
      "image/png": "[encoded data removed]",
      "text/plain": [
       "<Figure size 432x288 with 1 Axes>"
      ]
     },
     "metadata": {
      "needs_background": "light"
     },
     "output_type": "display_data"
    }
   ],
   "source": [
    "error_objects = X_test[error_idxs].reshape((-1,8,8))\n",
    "result_img = []\n",
    "for img in error_objects:\n",
    "    result_img.append(img)\n",
    "plt.imshow(np.hstack(result_img))\n",
    "plt.show()"
   ]
  },
  {
   "cell_type": "code",
   "execution_count": 49,
   "metadata": {
    "ExecuteTime": {
     "end_time": "2019-12-13T18:44:59.455480Z",
     "start_time": "2019-12-13T18:44:59.450504Z"
    }
   },
   "outputs": [
    {
     "data": {
      "text/plain": [
       "array([5, 9, 3])"
      ]
     },
     "execution_count": 49,
     "metadata": {},
     "output_type": "execute_result"
    }
   ],
   "source": [
    "data_dict['target'][len(y_train) + error_idxs]"
   ]
  },
  {
   "cell_type": "markdown",
   "metadata": {},
   "source": [
    "Алгоритм выдал 1 false positive и 2 false negative ошибки"
   ]
  }
 ],
 "metadata": {
  "kernelspec": {
   "display_name": "Python 3",
   "language": "python",
   "name": "python3"
  },
  "language_info": {
   "codemirror_mode": {
    "name": "ipython",
    "version": 3
   },
   "file_extension": ".py",
   "mimetype": "text/x-python",
   "name": "python",
   "nbconvert_exporter": "python",
   "pygments_lexer": "ipython3",
   "version": "3.6.9"
  }
 },
 "nbformat": 4,
 "nbformat_minor": 2
}
