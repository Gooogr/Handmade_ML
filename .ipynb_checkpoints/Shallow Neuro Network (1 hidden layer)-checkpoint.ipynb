{
 "cells": [
  {
   "cell_type": "code",
   "execution_count": 23,
   "metadata": {
    "ExecuteTime": {
     "end_time": "2020-02-13T17:53:22.796499Z",
     "start_time": "2020-02-13T17:53:22.785694Z"
    }
   },
   "outputs": [],
   "source": [
    "import numpy as np\n",
    "import matplotlib.pyplot as plt\n",
    "import mnist"
   ]
  },
  {
   "cell_type": "markdown",
   "metadata": {},
   "source": [
    "#### Загрузка MNIST и подготовка данных"
   ]
  },
  {
   "cell_type": "code",
   "execution_count": 24,
   "metadata": {
    "ExecuteTime": {
     "end_time": "2020-02-13T17:53:23.562652Z",
     "start_time": "2020-02-13T17:53:23.246818Z"
    }
   },
   "outputs": [],
   "source": [
    "train_data = mnist.train_images()\n",
    "train_labels = mnist.train_labels()\n",
    "\n",
    "test_data = mnist.test_images()\n",
    "test_labels = mnist.test_labels()"
   ]
  },
  {
   "cell_type": "code",
   "execution_count": 25,
   "metadata": {
    "ExecuteTime": {
     "end_time": "2020-02-13T17:53:23.568062Z",
     "start_time": "2020-02-13T17:53:23.563868Z"
    }
   },
   "outputs": [
    {
     "name": "stdout",
     "output_type": "stream",
     "text": [
      "(60000, 28, 28) (10000, 28, 28)\n"
     ]
    }
   ],
   "source": [
    "print(train_data.shape, test_data.shape)"
   ]
  },
  {
   "cell_type": "code",
   "execution_count": 32,
   "metadata": {
    "ExecuteTime": {
     "end_time": "2020-02-13T17:54:30.908446Z",
     "start_time": "2020-02-13T17:54:30.890225Z"
    }
   },
   "outputs": [],
   "source": [
    "X_train = np.reshape(train_data, [28*28, -1])\n",
    "X_test = np.reshape(test_data, [28*28, -1])\n",
    "\n",
    "y_train = np.reshape(train_labels, [-1, len(train_labels)])\n",
    "y_test = np.reshape(test_labels, [-1, len(test_labels)])"
   ]
  },
  {
   "cell_type": "code",
   "execution_count": 34,
   "metadata": {
    "ExecuteTime": {
     "end_time": "2020-02-13T17:55:39.243177Z",
     "start_time": "2020-02-13T17:55:39.225524Z"
    }
   },
   "outputs": [
    {
     "name": "stdout",
     "output_type": "stream",
     "text": [
      "(784, 60000) (784, 10000)\n",
      "(1, 60000) (1, 10000)\n"
     ]
    }
   ],
   "source": [
    "print(X_train.shape, X_test.shape)\n",
    "print(y_train.shape, y_test.shape)"
   ]
  },
  {
   "cell_type": "markdown",
   "metadata": {},
   "source": [
    "#### Support functions"
   ]
  },
  {
   "cell_type": "code",
   "execution_count": 36,
   "metadata": {
    "ExecuteTime": {
     "end_time": "2020-02-13T18:06:10.735938Z",
     "start_time": "2020-02-13T18:06:10.726777Z"
    }
   },
   "outputs": [],
   "source": [
    "def sigma(z):\n",
    "    '''Return sigma function result\n",
    "    '''\n",
    "    return(1/(1 + np.power(np.exp(1), -z)))"
   ]
  },
  {
   "cell_type": "code",
   "execution_count": 37,
   "metadata": {
    "ExecuteTime": {
     "end_time": "2020-02-13T18:06:19.985928Z",
     "start_time": "2020-02-13T18:06:19.972397Z"
    }
   },
   "outputs": [],
   "source": [
    "# Sanity check\n",
    "assert sigma(0)==0.5\n",
    "assert sigma(np.inf) == 1\n",
    "assert sigma(-np.inf) == 0"
   ]
  },
  {
   "cell_type": "markdown",
   "metadata": {},
   "source": [
    "**Support functions**"
   ]
  },
  {
   "cell_type": "code",
   "execution_count": 41,
   "metadata": {
    "ExecuteTime": {
     "end_time": "2020-02-13T18:37:24.898299Z",
     "start_time": "2020-02-13T18:37:24.885243Z"
    }
   },
   "outputs": [],
   "source": [
    "def initialize_weights(m_x, m_h, m_y):\n",
    "    W1 = np.random.randn(m_h, m_x)\n",
    "    b1 = np.zeros((m_h, 1))\n",
    "    W2 = np.random.randn(m_y, m_h)\n",
    "    b2 = np.zeros((m_y, 1))\n",
    "    \n",
    "    initial_weights = {\"W1\": W1,\n",
    "              \"b1\": b1,\n",
    "              \"W2\": W2,\n",
    "              \"b2\": b2}\n",
    "    return initial_weights"
   ]
  },
  {
   "cell_type": "code",
   "execution_count": 45,
   "metadata": {
    "ExecuteTime": {
     "end_time": "2020-02-13T20:18:30.694245Z",
     "start_time": "2020-02-13T20:18:30.687695Z"
    }
   },
   "outputs": [],
   "source": [
    "def forward_pass(X, weights):\n",
    "    # unpack dict with weights\n",
    "    W1 = weights[\"W1\"]\n",
    "    b1 = weights[\"b1\"]\n",
    "    W2 = weights[\"W2\"]\n",
    "    b2 = weights[\"b2\"]\n",
    "    \n",
    "    # forward pass\n",
    "    Z1 = np.dot(W1, X) + b1\n",
    "    A1 = np.tanh(Z1)\n",
    "    Z2 = np.dot(W2, A1) + b2\n",
    "    A2 = sigma(Z2)\n",
    "    \n",
    "    cache = {\"Z1\": Z1,\n",
    "             \"A1\": A1,\n",
    "             \"Z2\": Z2,\n",
    "             \"A2\": A2}\n",
    "    \n",
    "    return cache"
   ]
  },
  {
   "cell_type": "code",
   "execution_count": 51,
   "metadata": {
    "ExecuteTime": {
     "end_time": "2020-02-13T20:18:57.881033Z",
     "start_time": "2020-02-13T20:18:57.869697Z"
    }
   },
   "outputs": [],
   "source": [
    "def compute_cost(A2, Y, m_x):\n",
    "    '''\n",
    "    Compute cross-enthropy loss\n",
    "    '''\n",
    "    cost = -(np.dot(np.log(A2), Y.T) + np.dot((np.log(1 - A2)), (1 - Y.T)))/m_x\n",
    "    cost = float(np.squeeze(cost)) # convert result in 1-dimensional array\n",
    "    return cost"
   ]
  },
  {
   "cell_type": "code",
   "execution_count": 58,
   "metadata": {
    "ExecuteTime": {
     "end_time": "2020-02-13T20:21:10.542687Z",
     "start_time": "2020-02-13T20:21:10.534014Z"
    }
   },
   "outputs": [],
   "source": [
    "def backward_pass(cache, weights, m_x, Y):\n",
    "    # unpack cache dict\n",
    "    Z1 = cache['Z1']\n",
    "    A1 = cache['A1']\n",
    "    Z2 = cache['Z2']\n",
    "    A2 = cache['A2']\n",
    "    \n",
    "    # unpack weights dict\n",
    "    W1 = weights[\"W1\"]\n",
    "    b1 = weights[\"b1\"]\n",
    "    W2 = weights[\"W2\"]\n",
    "    b2 = weights[\"b2\"]\n",
    "    \n",
    "    # backward pass\n",
    "    dZ2 = A2 - Y\n",
    "    dW2 = np.dot(dZ2, A1.T)/m_x\n",
    "    db2 = np.sum(dZ2, axis = 1, keepdims = True)/m_x\n",
    "    \n",
    "    dZ1 = np.dot(W2.T, dZ2)*(1 - np.power(A1, 2))\n",
    "    dW1 = np.dot(dZ1, X)/m_x #np.dot(dZ1, X.T)/m_x ??????????????????????????\n",
    "    db1 = np.sum(dZ1, axis = 1, keepdims = True)/m_x\n",
    "    \n",
    "    # You can complete rewrite cache with Z1...A2 to dW1...db2, if nesessary.\n",
    "    # But I have enough memory in this toy example, so I will create another one dict.\n",
    "    grad_weights = {\"dW1\": dW1,\n",
    "             \"db1\": db1,\n",
    "             \"dW2\": dW2,\n",
    "             \"db2\": db2}\n",
    "    \n",
    "    return grad_weights"
   ]
  },
  {
   "cell_type": "code",
   "execution_count": 59,
   "metadata": {
    "ExecuteTime": {
     "end_time": "2020-02-13T20:21:12.624951Z",
     "start_time": "2020-02-13T20:21:12.610912Z"
    }
   },
   "outputs": [],
   "source": [
    "def update_weights(grad_weights, weights, lr):\n",
    "    \n",
    "    W1 = weights[\"W1\"]\n",
    "    b1 = weights[\"b1\"]\n",
    "    W2 = weights[\"W2\"]\n",
    "    b2 = weights[\"b2\"]\n",
    "    \n",
    "    dW1 = grad_weights[\"dW1\"]\n",
    "    dW2 = grad_weights[\"dW2\"]\n",
    "    db1 = grad_weights[\"db1\"]\n",
    "    db2 = grad_weights[\"db2\"]\n",
    "    \n",
    "    W1 = W1 - lr * dW1\n",
    "    W2 = W2 - lr * dW2\n",
    "    b1 = b1 - lr * db1\n",
    "    b2 = b2 - lr * db2\n",
    "    \n",
    "    weights = {\"W1\": W1,\n",
    "              \"b1\": b1,\n",
    "              \"W2\": W2,\n",
    "              \"b2\": b2}\n",
    "    \n",
    "    return weights"
   ]
  },
  {
   "cell_type": "markdown",
   "metadata": {},
   "source": [
    "**Main functions**"
   ]
  },
  {
   "cell_type": "code",
   "execution_count": 63,
   "metadata": {
    "ExecuteTime": {
     "end_time": "2020-02-13T20:23:32.184680Z",
     "start_time": "2020-02-13T20:23:32.178289Z"
    }
   },
   "outputs": [],
   "source": [
    "def train(X, Y, lr, n_h, iter_num):\n",
    "    '''\n",
    "    X - training data\n",
    "    Y - training labels\n",
    "    lr - learning rate\n",
    "    n_h  - size of hidden layer\n",
    "    iter_num - iteration`s number\n",
    "    '''\n",
    "    # getting crucial matrix shapes\n",
    "    n_x = X_train.shape[0] #784\n",
    "    n_y = y_train.shape[0] #1, we have a simple labels and will not use softmax function\n",
    "    \n",
    "    m_x = X_train.shape[0] # train objects amount\n",
    "    \n",
    "    # initialize weights\n",
    "    weights = initialize_weights(n_x, n_h, n_y)\n",
    "    W1 = weights[\"W1\"]\n",
    "    b1 = weights[\"b1\"]\n",
    "    W2 = weights[\"W2\"]\n",
    "    b2 = weights[\"b2\"]\n",
    "    \n",
    "    for i in range(iter_num):\n",
    "        cache = forward_pass(X, weights)\n",
    "        if i % 10 == 0:\n",
    "            print(\"Cost after iteration {} : {}\".format(i, compute_cost(cache[\"A2\"], Y, m_x)))\n",
    "        grad_weights = backward_pass(cache, weights, m_x, Y)\n",
    "        weights = update_weights(grad_weights, weights, lr)\n",
    "    \n"
   ]
  },
  {
   "cell_type": "code",
   "execution_count": 64,
   "metadata": {
    "ExecuteTime": {
     "end_time": "2020-02-13T20:23:45.337122Z",
     "start_time": "2020-02-13T20:23:32.902676Z"
    }
   },
   "outputs": [
    {
     "name": "stdout",
     "output_type": "stream",
     "text": [
      "Cost after iteration 0 : 14179.665993319226\n",
      "Cost after iteration 10 : 65989.57672737286\n",
      "Cost after iteration 20 : 157162.07967616734\n",
      "Cost after iteration 30 : 273775.6337898905\n",
      "Cost after iteration 40 : 395913.62081023946\n",
      "Cost after iteration 50 : 519809.94876493816\n"
     ]
    },
    {
     "name": "stderr",
     "output_type": "stream",
     "text": [
      "/home/grigoriy/anaconda3/envs/churn/lib/python3.6/site-packages/ipykernel_launcher.py:5: RuntimeWarning: divide by zero encountered in log\n",
      "  \"\"\"\n"
     ]
    },
    {
     "name": "stdout",
     "output_type": "stream",
     "text": [
      "Cost after iteration 60 : nan\n",
      "Cost after iteration 70 : nan\n",
      "Cost after iteration 80 : nan\n"
     ]
    },
    {
     "ename": "KeyboardInterrupt",
     "evalue": "",
     "output_type": "error",
     "traceback": [
      "\u001b[0;31m---------------------------------------------------------------------------\u001b[0m",
      "\u001b[0;31mKeyboardInterrupt\u001b[0m                         Traceback (most recent call last)",
      "\u001b[0;32m<ipython-input-64-bbf1dc377457>\u001b[0m in \u001b[0;36m<module>\u001b[0;34m\u001b[0m\n\u001b[0;32m----> 1\u001b[0;31m \u001b[0mtrain\u001b[0m\u001b[0;34m(\u001b[0m\u001b[0mX_train\u001b[0m\u001b[0;34m,\u001b[0m \u001b[0my_train\u001b[0m\u001b[0;34m,\u001b[0m \u001b[0;36m0.001\u001b[0m\u001b[0;34m,\u001b[0m \u001b[0;36m3\u001b[0m\u001b[0;34m,\u001b[0m \u001b[0;36m1000\u001b[0m\u001b[0;34m)\u001b[0m\u001b[0;34m\u001b[0m\u001b[0;34m\u001b[0m\u001b[0m\n\u001b[0m",
      "\u001b[0;32m<ipython-input-63-de36c60448c4>\u001b[0m in \u001b[0;36mtrain\u001b[0;34m(X, Y, lr, n_h, iter_num)\u001b[0m\n\u001b[1;32m     21\u001b[0m \u001b[0;34m\u001b[0m\u001b[0m\n\u001b[1;32m     22\u001b[0m     \u001b[0;32mfor\u001b[0m \u001b[0mi\u001b[0m \u001b[0;32min\u001b[0m \u001b[0mrange\u001b[0m\u001b[0;34m(\u001b[0m\u001b[0miter_num\u001b[0m\u001b[0;34m)\u001b[0m\u001b[0;34m:\u001b[0m\u001b[0;34m\u001b[0m\u001b[0;34m\u001b[0m\u001b[0m\n\u001b[0;32m---> 23\u001b[0;31m         \u001b[0mcache\u001b[0m \u001b[0;34m=\u001b[0m \u001b[0mforward_pass\u001b[0m\u001b[0;34m(\u001b[0m\u001b[0mX\u001b[0m\u001b[0;34m,\u001b[0m \u001b[0mweights\u001b[0m\u001b[0;34m)\u001b[0m\u001b[0;34m\u001b[0m\u001b[0;34m\u001b[0m\u001b[0m\n\u001b[0m\u001b[1;32m     24\u001b[0m         \u001b[0;32mif\u001b[0m \u001b[0mi\u001b[0m \u001b[0;34m%\u001b[0m \u001b[0;36m10\u001b[0m \u001b[0;34m==\u001b[0m \u001b[0;36m0\u001b[0m\u001b[0;34m:\u001b[0m\u001b[0;34m\u001b[0m\u001b[0;34m\u001b[0m\u001b[0m\n\u001b[1;32m     25\u001b[0m             \u001b[0mprint\u001b[0m\u001b[0;34m(\u001b[0m\u001b[0;34m\"Cost after iteration {} : {}\"\u001b[0m\u001b[0;34m.\u001b[0m\u001b[0mformat\u001b[0m\u001b[0;34m(\u001b[0m\u001b[0mi\u001b[0m\u001b[0;34m,\u001b[0m \u001b[0mcompute_cost\u001b[0m\u001b[0;34m(\u001b[0m\u001b[0mcache\u001b[0m\u001b[0;34m[\u001b[0m\u001b[0;34m\"A2\"\u001b[0m\u001b[0;34m]\u001b[0m\u001b[0;34m,\u001b[0m \u001b[0mY\u001b[0m\u001b[0;34m,\u001b[0m \u001b[0mm_x\u001b[0m\u001b[0;34m)\u001b[0m\u001b[0;34m)\u001b[0m\u001b[0;34m)\u001b[0m\u001b[0;34m\u001b[0m\u001b[0;34m\u001b[0m\u001b[0m\n",
      "\u001b[0;32m<ipython-input-45-58c56bb1381b>\u001b[0m in \u001b[0;36mforward_pass\u001b[0;34m(X, weights)\u001b[0m\n\u001b[1;32m      7\u001b[0m \u001b[0;34m\u001b[0m\u001b[0m\n\u001b[1;32m      8\u001b[0m     \u001b[0;31m# forward pass\u001b[0m\u001b[0;34m\u001b[0m\u001b[0;34m\u001b[0m\u001b[0;34m\u001b[0m\u001b[0m\n\u001b[0;32m----> 9\u001b[0;31m     \u001b[0mZ1\u001b[0m \u001b[0;34m=\u001b[0m \u001b[0mnp\u001b[0m\u001b[0;34m.\u001b[0m\u001b[0mdot\u001b[0m\u001b[0;34m(\u001b[0m\u001b[0mW1\u001b[0m\u001b[0;34m,\u001b[0m \u001b[0mX\u001b[0m\u001b[0;34m)\u001b[0m \u001b[0;34m+\u001b[0m \u001b[0mb1\u001b[0m\u001b[0;34m\u001b[0m\u001b[0;34m\u001b[0m\u001b[0m\n\u001b[0m\u001b[1;32m     10\u001b[0m     \u001b[0mA1\u001b[0m \u001b[0;34m=\u001b[0m \u001b[0mnp\u001b[0m\u001b[0;34m.\u001b[0m\u001b[0mtanh\u001b[0m\u001b[0;34m(\u001b[0m\u001b[0mZ1\u001b[0m\u001b[0;34m)\u001b[0m\u001b[0;34m\u001b[0m\u001b[0;34m\u001b[0m\u001b[0m\n\u001b[1;32m     11\u001b[0m     \u001b[0mZ2\u001b[0m \u001b[0;34m=\u001b[0m \u001b[0mnp\u001b[0m\u001b[0;34m.\u001b[0m\u001b[0mdot\u001b[0m\u001b[0;34m(\u001b[0m\u001b[0mW2\u001b[0m\u001b[0;34m,\u001b[0m \u001b[0mA1\u001b[0m\u001b[0;34m)\u001b[0m \u001b[0;34m+\u001b[0m \u001b[0mb2\u001b[0m\u001b[0;34m\u001b[0m\u001b[0;34m\u001b[0m\u001b[0m\n",
      "\u001b[0;32m<__array_function__ internals>\u001b[0m in \u001b[0;36mdot\u001b[0;34m(*args, **kwargs)\u001b[0m\n",
      "\u001b[0;31mKeyboardInterrupt\u001b[0m: "
     ]
    }
   ],
   "source": [
    "train(X_train, y_train, 0.001, 3, 1000)"
   ]
  },
  {
   "cell_type": "code",
   "execution_count": null,
   "metadata": {},
   "outputs": [],
   "source": [
    "def predict():\n",
    "    pass"
   ]
  },
  {
   "cell_type": "code",
   "execution_count": 35,
   "metadata": {
    "ExecuteTime": {
     "end_time": "2020-02-13T18:01:50.509708Z",
     "start_time": "2020-02-13T18:01:50.502750Z"
    }
   },
   "outputs": [],
   "source": [
    "# m_x = X_train.shape[0] #784\n",
    "# #n_x = X_train.shape[1] #60000\n",
    "\n",
    "# m_h = 6 #hidden layer size, hyperparameter\n",
    "\n",
    "# m_y = y_train.shape[0] #1, we have a simple labels and will not use softamx function"
   ]
  }
 ],
 "metadata": {
  "kernelspec": {
   "display_name": "Python 3",
   "language": "python",
   "name": "python3"
  },
  "language_info": {
   "codemirror_mode": {
    "name": "ipython",
    "version": 3
   },
   "file_extension": ".py",
   "mimetype": "text/x-python",
   "name": "python",
   "nbconvert_exporter": "python",
   "pygments_lexer": "ipython3",
   "version": "3.6.9"
  }
 },
 "nbformat": 4,
 "nbformat_minor": 2
}
